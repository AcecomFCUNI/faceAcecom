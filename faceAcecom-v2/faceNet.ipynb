{
 "cells": [
  {
   "cell_type": "markdown",
   "metadata": {},
   "source": [
    "# Reconocimiento facial: python + tensorflow + keras"
   ]
  },
  {
   "cell_type": "code",
   "execution_count": 84,
   "metadata": {},
   "outputs": [],
   "source": [
    "import tensorflow as tf\n",
    "from tensorflow.keras.models import load_model\n",
    "import cv2\n",
    "import numpy as np\n",
    "import os\n",
    "import pickle\n",
    "import time\n",
    "from sklearn.svm import SVC\n",
    "from sklearn.model_selection import train_test_split\n",
    "from os import getenv\n",
    "from dotenv import load_dotenv  # pipenv install python-dotenv\n",
    "\n",
    "load_dotenv()\n",
    "\n",
    "FACENET_KERAS_WEIGHTS = getenv(\"FACENET_KERAS_WEIGHTS\")\n",
    "LABEL_ENCODER = getenv(\"LABEL_ENCODER\")\n",
    "DATASET_DIR = getenv(\"DATASET_DIR\")\n",
    "FACENET_PREDICTOR = getenv(\"FACENET_PREDICTOR\")"
   ]
  },
  {
   "cell_type": "code",
   "execution_count": null,
   "metadata": {},
   "outputs": [
    {
     "data": {
      "text/plain": [
       "'2.7.0'"
      ]
     },
     "execution_count": 64,
     "metadata": {},
     "output_type": "execute_result"
    }
   ],
   "source": [
    "tf.__version__"
   ]
  },
  {
   "cell_type": "code",
   "execution_count": 23,
   "metadata": {},
   "outputs": [],
   "source": [
    "def compute_embedding(model, face):\n",
    "    face = face.astype('float32')\n",
    "    \n",
    "    mean, std = face.mean(), face.std()\n",
    "    face = (face-mean) / std\n",
    "    \n",
    "    face = np.expand_dims(face,axis=0)\n",
    "    \n",
    "    embedding = model.predict(face)\n",
    "    return embedding"
   ]
  },
  {
   "cell_type": "code",
   "execution_count": 4,
   "metadata": {},
   "outputs": [],
   "source": [
    "# Create the FaceNet model\n",
    "from architecture import InceptionResNetV2\n",
    "\n",
    "face_encoder = InceptionResNetV2()\n",
    "\n",
    "# # Load the weights of the model\n",
    "face_encoder.load_weights(FACENET_KERAS_WEIGHTS)"
   ]
  },
  {
   "cell_type": "markdown",
   "metadata": {},
   "source": [
    "## Múltiples caras"
   ]
  },
  {
   "cell_type": "code",
   "execution_count": null,
   "metadata": {},
   "outputs": [],
   "source": [
    "model_label_encoder = pickle.load(open(LABEL_ENCODER, \"rb\"))\n",
    "ids2name = {idx: name for idx, name in enumerate(model_label_encoder.classes_)}\n",
    "name2ids = {name: idx for idx, name in enumerate(model_label_encoder.classes_)}\n",
    "\n",
    "X = []\n",
    "y = []\n",
    "for idx, files in enumerate(os.walk(DATASET_DIR)):\n",
    "    if idx > 0:\n",
    "        person_dir = files[0]\n",
    "        for file in files[2]:\n",
    "            image = cv2.cvtColor(cv2.imread(os.path.join(person_dir, file)), cv2.COLOR_BGR2RGB)\n",
    "            image = cv2.resize(image, dsize=(160, 160))\n",
    "            embedding = compute_embedding(face_encoder, image)\n",
    "            X.append(embedding[0])\n",
    "            personId = name2ids[person_dir.split('/')[2]]\n",
    "            y.append(personId)"
   ]
  },
  {
   "cell_type": "code",
   "execution_count": null,
   "metadata": {},
   "outputs": [
    {
     "name": "stdout",
     "output_type": "stream",
     "text": [
      "0.9803921568627451\n",
      "Hecho en 0.005s\n"
     ]
    }
   ],
   "source": [
    "X_train , X_test , Y_train , Y_test = train_test_split(X, y, test_size=0.3, random_state=0)\n",
    "\n",
    "t_init=time.time()\n",
    "svm = SVC(kernel='rbf' , class_weight='balanced' , C=1000 , gamma=0.0082)\n",
    "svm.fit(X_train , Y_train)\n",
    "print(svm.score(X_test , Y_test))\n",
    "print(\"Hecho en %0.3fs\" % (time.time() - t_init))"
   ]
  },
  {
   "cell_type": "code",
   "execution_count": null,
   "metadata": {},
   "outputs": [],
   "source": [
    "pickle.dump(svm, open(FACENET_PREDICTOR, 'wb'))"
   ]
  }
 ],
 "metadata": {
  "kernelspec": {
   "display_name": "Python 3",
   "language": "python",
   "name": "python3"
  },
  "language_info": {
   "codemirror_mode": {
    "name": "ipython",
    "version": 3
   },
   "file_extension": ".py",
   "mimetype": "text/x-python",
   "name": "python",
   "nbconvert_exporter": "python",
   "pygments_lexer": "ipython3",
   "version": "3.8.10"
  }
 },
 "nbformat": 4,
 "nbformat_minor": 2
}
